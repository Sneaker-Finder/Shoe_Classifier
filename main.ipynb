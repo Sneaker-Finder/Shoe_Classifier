{
 "cells": [
  {
   "cell_type": "code",
   "execution_count": 1,
   "metadata": {},
   "outputs": [
    {
     "name": "stderr",
     "output_type": "stream",
     "text": [
      "/Users/oscarpang/Shoe_Classifier/.venv/lib/python3.12/site-packages/tqdm/auto.py:21: TqdmWarning: IProgress not found. Please update jupyter and ipywidgets. See https://ipywidgets.readthedocs.io/en/stable/user_install.html\n",
      "  from .autonotebook import tqdm as notebook_tqdm\n"
     ]
    }
   ],
   "source": [
    "import os\n",
    "from transformers import ViTForImageClassification, ViTImageProcessor, TrainingArguments, Trainer\n",
    "from torchvision.transforms import v2\n",
    "from datasets import load_dataset"
   ]
  },
  {
   "cell_type": "code",
   "execution_count": 3,
   "metadata": {},
   "outputs": [
    {
     "name": "stderr",
     "output_type": "stream",
     "text": [
      "Downloading data: 100%|██████████| 6115/6115 [00:00<00:00, 118389.10files/s]\n",
      "Generating train split: 6115 examples [00:00, 49821.13 examples/s]\n",
      "Downloading data: 100%|██████████| 1833/1833 [00:00<00:00, 1077074.70files/s]\n",
      "Generating train split: 1833 examples [00:00, 48982.89 examples/s]\n",
      "Downloading data: 100%|██████████| 854/854 [00:00<00:00, 1016728.82files/s]\n",
      "Generating train split: 854 examples [00:00, 46385.51 examples/s]\n"
     ]
    }
   ],
   "source": [
    "dataset_dir = \"dataset\"\n",
    "\n",
    "# Load training dataset\n",
    "train_dataset = load_dataset('imagefolder', data_dir=os.path.join(dataset_dir, 'train'))['train']\n",
    "# Load validation dataset\n",
    "val_dataset = load_dataset('imagefolder', data_dir=os.path.join(dataset_dir, 'valid'))['train']\n",
    "# Load test dataset\n",
    "test_dataset = load_dataset('imagefolder', data_dir=os.path.join(dataset_dir, 'test'))['train']"
   ]
  },
  {
   "cell_type": "code",
   "execution_count": 4,
   "metadata": {},
   "outputs": [
    {
     "name": "stderr",
     "output_type": "stream",
     "text": [
      "/Users/oscarpang/Shoe_Classifier/.venv/lib/python3.12/site-packages/torchvision/transforms/v2/_deprecated.py:42: UserWarning: The transform `ToTensor()` is deprecated and will be removed in a future release. Instead, please use `v2.Compose([v2.ToImage(), v2.ToDtype(torch.float32, scale=True)])`.Output is equivalent up to float precision.\n",
      "  warnings.warn(\n"
     ]
    }
   ],
   "source": [
    "# Load pre-trained ViT image processor\n",
    "processor = ViTImageProcessor.from_pretrained('google/vit-base-patch16-224')\n",
    "\n",
    "# Get image mean and std\n",
    "image_mean, image_std = processor.image_mean, processor.image_std\n",
    "\n",
    "# Define transformations\n",
    "train_transform = v2.Compose([\n",
    "    v2.Resize((processor.size[\"height\"], processor.size[\"width\"])),\n",
    "    v2.RandomHorizontalFlip(p=0.1),\n",
    "    v2.RandomVerticalFlip(p=0.1),\n",
    "    v2.RandomApply([v2.RandomRotation(degrees=30)], p=0.25),\n",
    "    v2.RandomApply([v2.ColorJitter(brightness=0.2, contrast=0.2, saturation=0.2, hue=0.1)], p=0.25),\n",
    "    v2.RandomApply(transforms=[v2.GaussianBlur(kernel_size=(5, 9))], p=0.25),\n",
    "    v2.ToTensor(),\n",
    "    v2.Normalize(mean=image_mean, std=image_std)\n",
    "])\n",
    "\n",
    "test_transform = v2.Compose([\n",
    "    v2.Resize((processor.size[\"height\"], processor.size[\"width\"])),\n",
    "    v2.ToTensor(),\n",
    "    v2.Normalize(mean=image_mean, std=image_std)\n",
    "])"
   ]
  },
  {
   "cell_type": "code",
   "execution_count": 5,
   "metadata": {},
   "outputs": [
    {
     "name": "stderr",
     "output_type": "stream",
     "text": [
      "Map: 100%|██████████| 6115/6115 [00:16<00:00, 372.12 examples/s]\n",
      "Map: 100%|██████████| 1833/1833 [00:03<00:00, 510.91 examples/s]\n",
      "Map: 100%|██████████| 854/854 [00:01<00:00, 507.45 examples/s]\n"
     ]
    }
   ],
   "source": [
    "# Define the preprocessing function\n",
    "def preprocess_data(examples, transform):\n",
    "    examples['pixel_values'] = [transform(image) for image in examples['image']]\n",
    "    return examples\n",
    "\n",
    "# Apply preprocessing to the datasets\n",
    "train_dataset = train_dataset.map(lambda examples: preprocess_data(examples, train_transform), batched=True)\n",
    "val_dataset = val_dataset.map(lambda examples: preprocess_data(examples, test_transform), batched=True)\n",
    "test_dataset = test_dataset.map(lambda examples: preprocess_data(examples, test_transform), batched=True)"
   ]
  },
  {
   "cell_type": "code",
   "execution_count": 6,
   "metadata": {},
   "outputs": [
    {
     "name": "stderr",
     "output_type": "stream",
     "text": [
      "Some weights of ViTForImageClassification were not initialized from the model checkpoint at google/vit-base-patch16-224 and are newly initialized because the shapes did not match:\n",
      "- classifier.bias: found shape torch.Size([1000]) in the checkpoint and torch.Size([203]) in the model instantiated\n",
      "- classifier.weight: found shape torch.Size([1000, 768]) in the checkpoint and torch.Size([203, 768]) in the model instantiated\n",
      "You should probably TRAIN this model on a down-stream task to be able to use it for predictions and inference.\n",
      "/Users/oscarpang/Shoe_Classifier/.venv/lib/python3.12/site-packages/transformers/training_args.py:1525: FutureWarning: `evaluation_strategy` is deprecated and will be removed in version 4.46 of 🤗 Transformers. Use `eval_strategy` instead\n",
      "  warnings.warn(\n",
      "                                                 \n",
      "100%|██████████| 192/192 [14:11<00:00,  4.44s/it]"
     ]
    },
    {
     "name": "stdout",
     "output_type": "stream",
     "text": [
      "{'eval_loss': 5.0429840087890625, 'eval_runtime': 127.5988, 'eval_samples_per_second': 14.365, 'eval_steps_per_second': 0.455, 'epoch': 1.0}\n",
      "{'train_runtime': 851.8167, 'train_samples_per_second': 7.179, 'train_steps_per_second': 0.225, 'train_loss': 5.193100293477376, 'epoch': 1.0}\n"
     ]
    },
    {
     "name": "stderr",
     "output_type": "stream",
     "text": [
      "\n"
     ]
    },
    {
     "data": {
      "text/plain": [
       "TrainOutput(global_step=192, training_loss=5.193100293477376, metrics={'train_runtime': 851.8167, 'train_samples_per_second': 7.179, 'train_steps_per_second': 0.225, 'total_flos': 4.7471718134486016e+17, 'train_loss': 5.193100293477376, 'epoch': 1.0})"
      ]
     },
     "execution_count": 6,
     "metadata": {},
     "output_type": "execute_result"
    }
   ],
   "source": [
    "# Initialize the model\n",
    "model = ViTForImageClassification.from_pretrained('google/vit-base-patch16-224', num_labels=203, ignore_mismatched_sizes=True)\n",
    "\n",
    "# Define training arguments\n",
    "training_args = TrainingArguments(\n",
    "    output_dir='./results',\n",
    "    evaluation_strategy='epoch',\n",
    "    optim=\"adamw_torch\",\n",
    "    learning_rate=2e-5,\n",
    "    per_device_train_batch_size=32,\n",
    "    per_device_eval_batch_size=32,\n",
    "    num_train_epochs=1,\n",
    "    weight_decay=0.001,\n",
    ")\n",
    "\n",
    "# Initialize the trainer\n",
    "trainer = Trainer(\n",
    "    model=model,                         \n",
    "    args=training_args,                  \n",
    "    train_dataset=train_dataset,         \n",
    "    eval_dataset=val_dataset,                 \n",
    ")\n",
    "\n",
    "trainer.train()"
   ]
  },
  {
   "cell_type": "code",
   "execution_count": null,
   "metadata": {},
   "outputs": [],
   "source": [
    "evaluation_results = trainer.evaluate(eval_dataset=test_dataset)\n",
    "print(evaluation_results)"
   ]
  }
 ],
 "metadata": {
  "kernelspec": {
   "display_name": ".venv",
   "language": "python",
   "name": "python3"
  },
  "language_info": {
   "codemirror_mode": {
    "name": "ipython",
    "version": 3
   },
   "file_extension": ".py",
   "mimetype": "text/x-python",
   "name": "python",
   "nbconvert_exporter": "python",
   "pygments_lexer": "ipython3",
   "version": "3.12.5"
  }
 },
 "nbformat": 4,
 "nbformat_minor": 2
}
